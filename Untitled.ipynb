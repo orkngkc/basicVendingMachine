{
 "cells": [
  {
   "cell_type": "code",
   "execution_count": 1,
   "id": "94b59219",
   "metadata": {},
   "outputs": [],
   "source": [
    "stoks = {\n",
    "    \n",
    "    0 :10,\n",
    "    1:10,\n",
    "    2:10,\n",
    "}"
   ]
  },
  {
   "cell_type": "code",
   "execution_count": 2,
   "id": "7ebd68c4",
   "metadata": {
    "scrolled": true
   },
   "outputs": [
    {
     "name": "stdout",
     "output_type": "stream",
     "text": [
      "Wellcome!!\n",
      "Product: Coca Cola - Price: 15 - Code: 0\n",
      "Product: Ice Tea - Price: 10 - Code: 1\n",
      "Product: Cips - Price: 16 - Code: 2\n",
      "Please input the product code: 0\n",
      "Awesome, Coca Cola fiyat 15 TL\n",
      "Please insert 15 TL: 12\n",
      "Please insert 3 TL: 3\n",
      "Thank you!! Product is serving... Coca Cola\n",
      "To continue press any key, to quit q: q\n",
      "See you!!\n",
      "\n"
     ]
    }
   ],
   "source": [
    "items = [\n",
    "    {\n",
    "        'code':0,\n",
    "        'name':'Coca Cola',\n",
    "        'price':15,\n",
    "        'stok':stoks[0]\n",
    "    },\n",
    "    {\n",
    "        'code':1,\n",
    "        'name':'Ice Tea',\n",
    "        'price':10,\n",
    "        'stok':stoks[1]\n",
    "    },\n",
    "    {\n",
    "        'code':2,\n",
    "        'name':'Cips',\n",
    "        'price':16,\n",
    "        'stok':stoks[2]\n",
    "    },\n",
    "]\n",
    "\n",
    "is_quit = False\n",
    "item = ''\n",
    "\n",
    "while is_quit == False:\n",
    "    print(\"Wellcome!!\")\n",
    "    for i in items:\n",
    "        print(f\"Product: {i['name']} - Price: {i['price']} - Code: {i['code']}\")\n",
    "\n",
    "    query = int(input(\"Please input the product code: \"))\n",
    "    for i in items:\n",
    "        if query == i['code']:\n",
    "            item = i\n",
    "    if item == '':\n",
    "        print('INVALID CODE')\n",
    "    else:\n",
    "        if item['stok'] !=0:\n",
    "                print(f\"Awesome, {item['name']} price is {item['price']} TL\")\n",
    "                balance = 0\n",
    "                price = int(input(f\"Please insert {item['price']} TL: \"))\n",
    "                balance += price\n",
    "                while balance < item['price']:\n",
    "                    price=int(input(\"Please insert \"+str(item[\"price\"]-balance)+\" TL: \"))\n",
    "                    balance += price\n",
    "\n",
    "\n",
    "                if balance > item[\"price\"]:\n",
    "                    kalan = balance-item[\"price\"]\n",
    "                    print(f\"Change {kalan} TL. Product is serving... {item['name']}\")\n",
    "                    item['stok']-=1\n",
    "\n",
    "                else:\n",
    "                    print(f\"Thank you!! Product is serving... {item['name']}\")\n",
    "                    item['stok']-=1\n",
    "        else:\n",
    "            print(\"Product is out of stocks.\")\n",
    "\n",
    "    query = input(\"To continue press any key, to quit q: \")\n",
    "    if query == 'q':\n",
    "        is_quit = True\n",
    "        print(\"See you!!\")\n",
    "    else:\n",
    "        is_quit = False\n",
    "    print('')"
   ]
  },
  {
   "cell_type": "code",
   "execution_count": null,
   "id": "525a6132",
   "metadata": {},
   "outputs": [],
   "source": []
  }
 ],
 "metadata": {
  "kernelspec": {
   "display_name": "Python 3 (ipykernel)",
   "language": "python",
   "name": "python3"
  },
  "language_info": {
   "codemirror_mode": {
    "name": "ipython",
    "version": 3
   },
   "file_extension": ".py",
   "mimetype": "text/x-python",
   "name": "python",
   "nbconvert_exporter": "python",
   "pygments_lexer": "ipython3",
   "version": "3.9.7"
  }
 },
 "nbformat": 4,
 "nbformat_minor": 5
}
